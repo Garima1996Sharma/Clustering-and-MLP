{
 "cells": [
  {
   "cell_type": "markdown",
   "id": "13024e06",
   "metadata": {},
   "source": [
    "## 1) Importing data"
   ]
  },
  {
   "cell_type": "code",
   "execution_count": 1,
   "id": "1f58ca66",
   "metadata": {},
   "outputs": [
    {
     "data": {
      "text/html": [
       "<div>\n",
       "<style scoped>\n",
       "    .dataframe tbody tr th:only-of-type {\n",
       "        vertical-align: middle;\n",
       "    }\n",
       "\n",
       "    .dataframe tbody tr th {\n",
       "        vertical-align: top;\n",
       "    }\n",
       "\n",
       "    .dataframe thead th {\n",
       "        text-align: right;\n",
       "    }\n",
       "</style>\n",
       "<table border=\"1\" class=\"dataframe\">\n",
       "  <thead>\n",
       "    <tr style=\"text-align: right;\">\n",
       "      <th></th>\n",
       "      <th>avg_rating</th>\n",
       "      <th>number_ratings</th>\n",
       "      <th>enrollment</th>\n",
       "      <th>last_updated</th>\n",
       "      <th>lectures</th>\n",
       "      <th>duration</th>\n",
       "      <th>price2</th>\n",
       "      <th>discount</th>\n",
       "      <th>inst_rating</th>\n",
       "      <th>inst_review</th>\n",
       "      <th>inst_student</th>\n",
       "      <th>inst_course</th>\n",
       "      <th>cat_design</th>\n",
       "      <th>cat_development</th>\n",
       "      <th>cat_hobby</th>\n",
       "      <th>cat_it_software</th>\n",
       "    </tr>\n",
       "  </thead>\n",
       "  <tbody>\n",
       "    <tr>\n",
       "      <th>0</th>\n",
       "      <td>4.6</td>\n",
       "      <td>6833.0</td>\n",
       "      <td>21218.0</td>\n",
       "      <td>20.83</td>\n",
       "      <td>53.0</td>\n",
       "      <td>5.23</td>\n",
       "      <td>23.99</td>\n",
       "      <td>91.0</td>\n",
       "      <td>4.6</td>\n",
       "      <td>19993.0</td>\n",
       "      <td>55621.0</td>\n",
       "      <td>3.0</td>\n",
       "      <td>0</td>\n",
       "      <td>1</td>\n",
       "      <td>0</td>\n",
       "      <td>0</td>\n",
       "    </tr>\n",
       "    <tr>\n",
       "      <th>1</th>\n",
       "      <td>4.5</td>\n",
       "      <td>2826.0</td>\n",
       "      <td>14269.0</td>\n",
       "      <td>20.83</td>\n",
       "      <td>41.0</td>\n",
       "      <td>7.13</td>\n",
       "      <td>19.99</td>\n",
       "      <td>88.0</td>\n",
       "      <td>4.5</td>\n",
       "      <td>11922.0</td>\n",
       "      <td>53659.0</td>\n",
       "      <td>10.0</td>\n",
       "      <td>0</td>\n",
       "      <td>0</td>\n",
       "      <td>0</td>\n",
       "      <td>0</td>\n",
       "    </tr>\n",
       "    <tr>\n",
       "      <th>2</th>\n",
       "      <td>4.4</td>\n",
       "      <td>991.0</td>\n",
       "      <td>3563.0</td>\n",
       "      <td>20.67</td>\n",
       "      <td>91.0</td>\n",
       "      <td>5.23</td>\n",
       "      <td>28.99</td>\n",
       "      <td>77.0</td>\n",
       "      <td>4.4</td>\n",
       "      <td>2193.0</td>\n",
       "      <td>7422.0</td>\n",
       "      <td>6.0</td>\n",
       "      <td>0</td>\n",
       "      <td>0</td>\n",
       "      <td>0</td>\n",
       "      <td>0</td>\n",
       "    </tr>\n",
       "    <tr>\n",
       "      <th>3</th>\n",
       "      <td>4.2</td>\n",
       "      <td>681.0</td>\n",
       "      <td>1932.0</td>\n",
       "      <td>20.83</td>\n",
       "      <td>57.0</td>\n",
       "      <td>5.05</td>\n",
       "      <td>16.99</td>\n",
       "      <td>64.0</td>\n",
       "      <td>4.3</td>\n",
       "      <td>25989.0</td>\n",
       "      <td>242683.0</td>\n",
       "      <td>43.0</td>\n",
       "      <td>0</td>\n",
       "      <td>0</td>\n",
       "      <td>0</td>\n",
       "      <td>1</td>\n",
       "    </tr>\n",
       "    <tr>\n",
       "      <th>4</th>\n",
       "      <td>4.3</td>\n",
       "      <td>1939.0</td>\n",
       "      <td>14048.0</td>\n",
       "      <td>13.33</td>\n",
       "      <td>142.0</td>\n",
       "      <td>10.77</td>\n",
       "      <td>20.99</td>\n",
       "      <td>55.0</td>\n",
       "      <td>4.5</td>\n",
       "      <td>25581.0</td>\n",
       "      <td>113480.0</td>\n",
       "      <td>12.0</td>\n",
       "      <td>0</td>\n",
       "      <td>0</td>\n",
       "      <td>0</td>\n",
       "      <td>0</td>\n",
       "    </tr>\n",
       "  </tbody>\n",
       "</table>\n",
       "</div>"
      ],
      "text/plain": [
       "   avg_rating  number_ratings  enrollment  last_updated  lectures  duration  \\\n",
       "0         4.6          6833.0     21218.0         20.83      53.0      5.23   \n",
       "1         4.5          2826.0     14269.0         20.83      41.0      7.13   \n",
       "2         4.4           991.0      3563.0         20.67      91.0      5.23   \n",
       "3         4.2           681.0      1932.0         20.83      57.0      5.05   \n",
       "4         4.3          1939.0     14048.0         13.33     142.0     10.77   \n",
       "\n",
       "   price2  discount  inst_rating  inst_review  inst_student  inst_course  \\\n",
       "0   23.99      91.0          4.6      19993.0       55621.0          3.0   \n",
       "1   19.99      88.0          4.5      11922.0       53659.0         10.0   \n",
       "2   28.99      77.0          4.4       2193.0        7422.0          6.0   \n",
       "3   16.99      64.0          4.3      25989.0      242683.0         43.0   \n",
       "4   20.99      55.0          4.5      25581.0      113480.0         12.0   \n",
       "\n",
       "   cat_design  cat_development  cat_hobby  cat_it_software  \n",
       "0           0                1          0                0  \n",
       "1           0                0          0                0  \n",
       "2           0                0          0                0  \n",
       "3           0                0          0                1  \n",
       "4           0                0          0                0  "
      ]
     },
     "execution_count": 1,
     "metadata": {},
     "output_type": "execute_result"
    }
   ],
   "source": [
    "import pandas as pd\n",
    "import numpy as np\n",
    "from sklearn.preprocessing import MinMaxScaler,StandardScaler\n",
    "from sklearn.cluster import KMeans\n",
    "from kneed import KneeLocator\n",
    "from sklearn.decomposition import PCA \n",
    "from sklearn.pipeline import Pipeline\n",
    "from sklearn.metrics import silhouette_score\n",
    "from sklearn.cluster import AgglomerativeClustering\n",
    "from sklearn.cluster import KMeans\n",
    "from sklearn.cluster import Birch\n",
    "from sklearn.cluster import OPTICS\n",
    "from sklearn.cluster import MeanShift\n",
    "from sklearn.cluster import SpectralClustering\n",
    "from sklearn.metrics import silhouette_score, calinski_harabasz_score, davies_bouldin_score\n",
    "import matplotlib.pyplot as plt\n",
    "import seaborn as sns \n",
    "%matplotlib inline \n",
    "\n",
    "df = pd.read_csv(\"Lab02_GSh43374_prepared.csv\")\n",
    "\n",
    "df.head()"
   ]
  },
  {
   "cell_type": "markdown",
   "id": "958bb261",
   "metadata": {},
   "source": [
    "## 1.1) Exploring the dataset"
   ]
  },
  {
   "cell_type": "code",
   "execution_count": 2,
   "id": "b545e4e6",
   "metadata": {},
   "outputs": [
    {
     "name": "stdout",
     "output_type": "stream",
     "text": [
      "(1455, 16)\n",
      "<class 'pandas.core.frame.DataFrame'>\n",
      "RangeIndex: 1455 entries, 0 to 1454\n",
      "Data columns (total 16 columns):\n",
      " #   Column           Non-Null Count  Dtype  \n",
      "---  ------           --------------  -----  \n",
      " 0   avg_rating       1455 non-null   float64\n",
      " 1   number_ratings   1455 non-null   float64\n",
      " 2   enrollment       1455 non-null   float64\n",
      " 3   last_updated     1455 non-null   float64\n",
      " 4   lectures         1455 non-null   float64\n",
      " 5   duration         1455 non-null   float64\n",
      " 6   price2           1455 non-null   float64\n",
      " 7   discount         1455 non-null   float64\n",
      " 8   inst_rating      1455 non-null   float64\n",
      " 9   inst_review      1455 non-null   float64\n",
      " 10  inst_student     1455 non-null   float64\n",
      " 11  inst_course      1455 non-null   float64\n",
      " 12  cat_design       1455 non-null   int64  \n",
      " 13  cat_development  1455 non-null   int64  \n",
      " 14  cat_hobby        1455 non-null   int64  \n",
      " 15  cat_it_software  1455 non-null   int64  \n",
      "dtypes: float64(12), int64(4)\n",
      "memory usage: 182.0 KB\n"
     ]
    }
   ],
   "source": [
    "#Getting the shape and information of the data\n",
    "print(df.shape)\n",
    "df.info()"
   ]
  },
  {
   "cell_type": "markdown",
   "id": "c0ca6eed",
   "metadata": {},
   "source": [
    "## 2) Determining the optimal number of clusters\n",
    "Before determining the optimal number of clusters, we have to scale the features which are not from 0 to 1."
   ]
  },
  {
   "cell_type": "markdown",
   "id": "d44d8a59",
   "metadata": {},
   "source": [
    "### 2.1) Scaling the features"
   ]
  },
  {
   "cell_type": "code",
   "execution_count": 3,
   "id": "7e16537f",
   "metadata": {},
   "outputs": [
    {
     "data": {
      "text/html": [
       "<div>\n",
       "<style scoped>\n",
       "    .dataframe tbody tr th:only-of-type {\n",
       "        vertical-align: middle;\n",
       "    }\n",
       "\n",
       "    .dataframe tbody tr th {\n",
       "        vertical-align: top;\n",
       "    }\n",
       "\n",
       "    .dataframe thead th {\n",
       "        text-align: right;\n",
       "    }\n",
       "</style>\n",
       "<table border=\"1\" class=\"dataframe\">\n",
       "  <thead>\n",
       "    <tr style=\"text-align: right;\">\n",
       "      <th></th>\n",
       "      <th>avg_rating</th>\n",
       "      <th>number_ratings</th>\n",
       "      <th>enrollment</th>\n",
       "      <th>last_updated</th>\n",
       "      <th>lectures</th>\n",
       "      <th>duration</th>\n",
       "      <th>price2</th>\n",
       "      <th>discount</th>\n",
       "      <th>inst_rating</th>\n",
       "      <th>inst_review</th>\n",
       "      <th>inst_student</th>\n",
       "      <th>inst_course</th>\n",
       "      <th>cat_design</th>\n",
       "      <th>cat_development</th>\n",
       "      <th>cat_hobby</th>\n",
       "      <th>cat_it_software</th>\n",
       "    </tr>\n",
       "  </thead>\n",
       "  <tbody>\n",
       "    <tr>\n",
       "      <th>0</th>\n",
       "      <td>0.857743</td>\n",
       "      <td>2.854470</td>\n",
       "      <td>1.130404</td>\n",
       "      <td>0.730279</td>\n",
       "      <td>-0.523185</td>\n",
       "      <td>-0.499569</td>\n",
       "      <td>0.003822</td>\n",
       "      <td>0.753628</td>\n",
       "      <td>0.935738</td>\n",
       "      <td>0.267275</td>\n",
       "      <td>-0.221729</td>\n",
       "      <td>-0.218890</td>\n",
       "      <td>0</td>\n",
       "      <td>1</td>\n",
       "      <td>0</td>\n",
       "      <td>0</td>\n",
       "    </tr>\n",
       "    <tr>\n",
       "      <th>1</th>\n",
       "      <td>0.383753</td>\n",
       "      <td>0.596266</td>\n",
       "      <td>0.411598</td>\n",
       "      <td>0.730279</td>\n",
       "      <td>-0.651643</td>\n",
       "      <td>-0.346249</td>\n",
       "      <td>-0.180028</td>\n",
       "      <td>0.572513</td>\n",
       "      <td>0.434081</td>\n",
       "      <td>-0.122619</td>\n",
       "      <td>-0.243190</td>\n",
       "      <td>-0.128984</td>\n",
       "      <td>0</td>\n",
       "      <td>0</td>\n",
       "      <td>0</td>\n",
       "      <td>0</td>\n",
       "    </tr>\n",
       "    <tr>\n",
       "      <th>2</th>\n",
       "      <td>-0.090237</td>\n",
       "      <td>-0.437875</td>\n",
       "      <td>-0.695833</td>\n",
       "      <td>0.612395</td>\n",
       "      <td>-0.116400</td>\n",
       "      <td>-0.499569</td>\n",
       "      <td>0.233635</td>\n",
       "      <td>-0.091574</td>\n",
       "      <td>-0.067577</td>\n",
       "      <td>-0.592608</td>\n",
       "      <td>-0.748957</td>\n",
       "      <td>-0.180359</td>\n",
       "      <td>0</td>\n",
       "      <td>0</td>\n",
       "      <td>0</td>\n",
       "      <td>0</td>\n",
       "    </tr>\n",
       "    <tr>\n",
       "      <th>3</th>\n",
       "      <td>-1.038217</td>\n",
       "      <td>-0.612580</td>\n",
       "      <td>-0.864544</td>\n",
       "      <td>0.730279</td>\n",
       "      <td>-0.480365</td>\n",
       "      <td>-0.514094</td>\n",
       "      <td>-0.317916</td>\n",
       "      <td>-0.876404</td>\n",
       "      <td>-0.569235</td>\n",
       "      <td>0.556929</td>\n",
       "      <td>1.824463</td>\n",
       "      <td>0.294858</td>\n",
       "      <td>0</td>\n",
       "      <td>0</td>\n",
       "      <td>0</td>\n",
       "      <td>1</td>\n",
       "    </tr>\n",
       "    <tr>\n",
       "      <th>4</th>\n",
       "      <td>-0.564227</td>\n",
       "      <td>0.096384</td>\n",
       "      <td>0.388738</td>\n",
       "      <td>-4.795498</td>\n",
       "      <td>0.429548</td>\n",
       "      <td>-0.052521</td>\n",
       "      <td>-0.134065</td>\n",
       "      <td>-1.419748</td>\n",
       "      <td>0.434081</td>\n",
       "      <td>0.537220</td>\n",
       "      <td>0.411167</td>\n",
       "      <td>-0.103297</td>\n",
       "      <td>0</td>\n",
       "      <td>0</td>\n",
       "      <td>0</td>\n",
       "      <td>0</td>\n",
       "    </tr>\n",
       "  </tbody>\n",
       "</table>\n",
       "</div>"
      ],
      "text/plain": [
       "   avg_rating  number_ratings  enrollment  last_updated  lectures  duration  \\\n",
       "0    0.857743        2.854470    1.130404      0.730279 -0.523185 -0.499569   \n",
       "1    0.383753        0.596266    0.411598      0.730279 -0.651643 -0.346249   \n",
       "2   -0.090237       -0.437875   -0.695833      0.612395 -0.116400 -0.499569   \n",
       "3   -1.038217       -0.612580   -0.864544      0.730279 -0.480365 -0.514094   \n",
       "4   -0.564227        0.096384    0.388738     -4.795498  0.429548 -0.052521   \n",
       "\n",
       "     price2  discount  inst_rating  inst_review  inst_student  inst_course  \\\n",
       "0  0.003822  0.753628     0.935738     0.267275     -0.221729    -0.218890   \n",
       "1 -0.180028  0.572513     0.434081    -0.122619     -0.243190    -0.128984   \n",
       "2  0.233635 -0.091574    -0.067577    -0.592608     -0.748957    -0.180359   \n",
       "3 -0.317916 -0.876404    -0.569235     0.556929      1.824463     0.294858   \n",
       "4 -0.134065 -1.419748     0.434081     0.537220      0.411167    -0.103297   \n",
       "\n",
       "   cat_design  cat_development  cat_hobby  cat_it_software  \n",
       "0           0                1          0                0  \n",
       "1           0                0          0                0  \n",
       "2           0                0          0                0  \n",
       "3           0                0          0                1  \n",
       "4           0                0          0                0  "
      ]
     },
     "execution_count": 3,
     "metadata": {},
     "output_type": "execute_result"
    }
   ],
   "source": [
    "# There is features that are not scaled from 0 to 1.\n",
    "\n",
    "# Using StandardScaler for scaling the features\n",
    "df1 = df.copy()\n",
    "# as only those features do not have value in -1 to 1, so these are scaled as others has value in between 0 to 1. So there is no need to scale those. \n",
    "col_names = ['avg_rating','number_ratings','enrollment','last_updated','lectures','duration','price2','discount','inst_rating','inst_review','inst_student','inst_course']\n",
    "features = df1[col_names]\n",
    "\n",
    "# Use scaler of choice; here Standard scaler is used\n",
    "scaler = StandardScaler().fit(features.values)\n",
    "features = scaler.transform(features.values)\n",
    "df1[col_names] = features\n",
    "df1.head()"
   ]
  },
  {
   "cell_type": "markdown",
   "id": "ead7f6ed",
   "metadata": {},
   "source": [
    "### 2.2) Elbow Method"
   ]
  },
  {
   "cell_type": "code",
   "execution_count": 19,
   "id": "698f0923",
   "metadata": {},
   "outputs": [],
   "source": [
    "# Defining function calculate_wcss to compute withinness sum of squares (wss)\n",
    "def calculate_wcss(data):\n",
    "    wcss = []\n",
    "    for n in range(1, 9):\n",
    "        kmeans = KMeans(n_clusters=n, random_state=0)\n",
    "        kmeans.fit(X=data)\n",
    "        wcss.append(kmeans.inertia_)\n",
    "    \n",
    "    return wcss"
   ]
  },
  {
   "cell_type": "code",
   "execution_count": 20,
   "id": "d0bbde74",
   "metadata": {},
   "outputs": [
    {
     "name": "stderr",
     "output_type": "stream",
     "text": [
      "C:\\Users\\sharm\\anaconda3\\lib\\site-packages\\sklearn\\cluster\\_kmeans.py:1039: UserWarning: KMeans is known to have a memory leak on Windows with MKL, when there are less chunks than available threads. You can avoid it by setting the environment variable OMP_NUM_THREADS=6.\n",
      "  warnings.warn(\n"
     ]
    },
    {
     "data": {
      "text/plain": [
       "[18214.59793814433,\n",
       " 15459.06871652724,\n",
       " 13971.817439507724,\n",
       " 12626.1909101212,\n",
       " 11665.429503139801,\n",
       " 10562.986085732575,\n",
       " 9632.475711334331,\n",
       " 8727.792662839278]"
      ]
     },
     "execution_count": 20,
     "metadata": {},
     "output_type": "execute_result"
    }
   ],
   "source": [
    "#calling the function calculate_wcss to compute wss\n",
    "wcss_val = calculate_wcss(df1)\n",
    "wcss_val\n"
   ]
  },
  {
   "cell_type": "code",
   "execution_count": 6,
   "id": "ac7f8ec6",
   "metadata": {},
   "outputs": [
    {
     "data": {
      "image/png": "[encoded data removed]",
      "text/plain": [
       "<Figure size 432x288 with 1 Axes>"
      ]
     },
     "metadata": {
      "needs_background": "light"
     },
     "output_type": "display_data"
    }
   ],
   "source": [
    "# plotting it\n",
    "plt.plot(range(1,9), wcss_val, '-bo')\n",
    "plt.xlabel('k')\n",
    "plt.ylabel('Sum of square distances')\n",
    "plt.title('Elbow method to find k')\n",
    "plt.show()"
   ]
  },
  {
   "cell_type": "code",
   "execution_count": 7,
   "id": "191dfe3e",
   "metadata": {},
   "outputs": [
    {
     "data": {
      "text/plain": [
       "3"
      ]
     },
     "execution_count": 7,
     "metadata": {},
     "output_type": "execute_result"
    }
   ],
   "source": [
    "knee = KneeLocator(range(1,9), wcss_val, curve='convex', direction='decreasing')\n",
    "knee.elbow"
   ]
  },
  {
   "cell_type": "markdown",
   "id": "b17b0ccd",
   "metadata": {},
   "source": [
    "Here, k=3 is chosen to be the elbow because the decrease in the error for the consequent parameter settings is rather small or becoming more flat. "
   ]
  },
  {
   "cell_type": "markdown",
   "id": "22ce0e94",
   "metadata": {},
   "source": [
    "### 2.3) Silhouette method"
   ]
  },
  {
   "cell_type": "code",
   "execution_count": 23,
   "id": "ad6a7e9c",
   "metadata": {},
   "outputs": [],
   "source": [
    "s_coef = []\n",
    "for k in range(2, 9): \n",
    "    kmeans = KMeans(n_clusters=k)\n",
    "    kmeans.fit(df1)\n",
    "    score = silhouette_score(df, kmeans.labels_)\n",
    "    s_coef.append(score)"
   ]
  },
  {
   "cell_type": "code",
   "execution_count": 24,
   "id": "2278cc2e",
   "metadata": {},
   "outputs": [
    {
     "data": {
      "image/png": "[encoded data removed]",
      "text/plain": [
       "<Figure size 432x288 with 1 Axes>"
      ]
     },
     "metadata": {
      "needs_background": "light"
     },
     "output_type": "display_data"
    }
   ],
   "source": [
    "plt.plot(range(2,9), s_coef, '-go')\n",
    "plt.xlabel('k')\n",
    "plt.ylabel('Silhoutte score')\n",
    "plt.title('Silhouette score method to find k')\n",
    "k = np.argmax(s_coef) + 2\n",
    "plt.axvline(x=k,\n",
    "            linestyle = '--', c='green', linewidth = 3, \n",
    "            label = 'Optimal number of clusters({})'.format(k))\n",
    "\n",
    "plt.scatter(k, s_coef[k-2], c=\"red\", s=300)\n",
    "plt.legend(shadow=True)\n",
    "plt.show()"
   ]
  },
  {
   "cell_type": "markdown",
   "id": "698d14ba",
   "metadata": {},
   "source": [
    "Here, k=2 is chosen as the silhouette score is the highest."
   ]
  },
  {
   "cell_type": "markdown",
   "id": "0e02f6a7",
   "metadata": {},
   "source": [
    "The result from the elbow method and silhouette in-conclusive. So, here, we will use k = 3."
   ]
  },
  {
   "cell_type": "markdown",
   "id": "30e5896d",
   "metadata": {},
   "source": [
    "## 3) Preparing the pipeline"
   ]
  },
  {
   "cell_type": "code",
   "execution_count": 10,
   "id": "f949d616",
   "metadata": {},
   "outputs": [],
   "source": [
    "# clustering algorithms used in our case\n",
    "clustering_algorithms = [\n",
    "    ('agglo', AgglomerativeClustering(n_clusters=3)),\n",
    "    ('kMeans', KMeans(n_clusters=3)),\n",
    "    ('Birch', Birch(threshold=0.01, n_clusters=3)),\n",
    "    ('MeanShift', MeanShift()),\n",
    "    ('OPTICS', OPTICS()),\n",
    "     ('SpectralClustring',SpectralClustering(n_clusters=3))\n",
    "                         ] \n"
   ]
  },
  {
   "cell_type": "code",
   "execution_count": 11,
   "id": "38369403",
   "metadata": {},
   "outputs": [
    {
     "data": {
      "text/html": [
       "<div>\n",
       "<style scoped>\n",
       "    .dataframe tbody tr th:only-of-type {\n",
       "        vertical-align: middle;\n",
       "    }\n",
       "\n",
       "    .dataframe tbody tr th {\n",
       "        vertical-align: top;\n",
       "    }\n",
       "\n",
       "    .dataframe thead th {\n",
       "        text-align: right;\n",
       "    }\n",
       "</style>\n",
       "<table border=\"1\" class=\"dataframe\">\n",
       "  <thead>\n",
       "    <tr style=\"text-align: right;\">\n",
       "      <th></th>\n",
       "      <th>Clustring</th>\n",
       "      <th>Silhouette</th>\n",
       "      <th>Callinszky</th>\n",
       "      <th>Davies</th>\n",
       "    </tr>\n",
       "  </thead>\n",
       "  <tbody>\n",
       "    <tr>\n",
       "      <th>0</th>\n",
       "      <td>agglo</td>\n",
       "      <td>-0.037101</td>\n",
       "      <td>308.244101</td>\n",
       "      <td>2.282180</td>\n",
       "    </tr>\n",
       "    <tr>\n",
       "      <th>1</th>\n",
       "      <td>kMeans</td>\n",
       "      <td>0.066715</td>\n",
       "      <td>419.434259</td>\n",
       "      <td>3.842235</td>\n",
       "    </tr>\n",
       "    <tr>\n",
       "      <th>2</th>\n",
       "      <td>Birch</td>\n",
       "      <td>0.131454</td>\n",
       "      <td>402.563140</td>\n",
       "      <td>2.727655</td>\n",
       "    </tr>\n",
       "    <tr>\n",
       "      <th>3</th>\n",
       "      <td>MeanShift</td>\n",
       "      <td>-0.489316</td>\n",
       "      <td>27.388651</td>\n",
       "      <td>2.413077</td>\n",
       "    </tr>\n",
       "    <tr>\n",
       "      <th>4</th>\n",
       "      <td>OPTICS</td>\n",
       "      <td>-0.648997</td>\n",
       "      <td>6.268481</td>\n",
       "      <td>27.461647</td>\n",
       "    </tr>\n",
       "    <tr>\n",
       "      <th>5</th>\n",
       "      <td>SpectralClustring</td>\n",
       "      <td>-0.148302</td>\n",
       "      <td>396.023095</td>\n",
       "      <td>5.132824</td>\n",
       "    </tr>\n",
       "  </tbody>\n",
       "</table>\n",
       "</div>"
      ],
      "text/plain": [
       "           Clustring  Silhouette  Callinszky     Davies\n",
       "0              agglo   -0.037101  308.244101   2.282180\n",
       "1             kMeans    0.066715  419.434259   3.842235\n",
       "2              Birch    0.131454  402.563140   2.727655\n",
       "3          MeanShift   -0.489316   27.388651   2.413077\n",
       "4             OPTICS   -0.648997    6.268481  27.461647\n",
       "5  SpectralClustring   -0.148302  396.023095   5.132824"
      ]
     },
     "execution_count": 11,
     "metadata": {},
     "output_type": "execute_result"
    }
   ],
   "source": [
    "cl_method = ['agglo',' kMeans','Birch','MeanShift','OPTICS','SpectralClustring']\n",
    "sh_result = []\n",
    "ch_result = []\n",
    "db_result = []\n",
    "clusters = []\n",
    "\n",
    "for name, algorithm in clustering_algorithms:\n",
    "    # pipe\n",
    "    pre_pipe = Pipeline([\n",
    "    ('scaler', StandardScaler()),('pca', PCA(n_components=2)), (\"clusterer\", algorithm)\n",
    "    ])\n",
    "    pre_pipe.fit(df)\n",
    "    cluster = pre_pipe.fit_predict(df)\n",
    "    \n",
    "    #silhouette_score, calinski_harabasz_score, davies_bouldin_score\n",
    "    sh = silhouette_score(df, cluster, metric='euclidean')\n",
    "    ch = calinski_harabasz_score(df, cluster)\n",
    "    db = davies_bouldin_score(df, cluster)\n",
    "    \n",
    "    # appending the values\n",
    "    sh_result.append(sh)\n",
    "    ch_result.append(ch)\n",
    "    db_result.append(db)\n",
    "    clusters.append(cluster)   \n",
    "    result = pd.DataFrame(zip(cl_method, sh_result, ch_result, db_result), \n",
    "                      columns=[\"Clustring\",\"Silhouette\", \"Callinszky\", \"Davies\"])    \n",
    "\n",
    "result"
   ]
  },
  {
   "cell_type": "code",
   "execution_count": 12,
   "id": "aba51704",
   "metadata": {},
   "outputs": [
    {
     "data": {
      "text/html": [
       "<div>\n",
       "<style scoped>\n",
       "    .dataframe tbody tr th:only-of-type {\n",
       "        vertical-align: middle;\n",
       "    }\n",
       "\n",
       "    .dataframe tbody tr th {\n",
       "        vertical-align: top;\n",
       "    }\n",
       "\n",
       "    .dataframe thead th {\n",
       "        text-align: right;\n",
       "    }\n",
       "</style>\n",
       "<table border=\"1\" class=\"dataframe\">\n",
       "  <thead>\n",
       "    <tr style=\"text-align: right;\">\n",
       "      <th></th>\n",
       "      <th>Clustring</th>\n",
       "      <th>Silhouette</th>\n",
       "      <th>Callinszky</th>\n",
       "      <th>Davies</th>\n",
       "    </tr>\n",
       "  </thead>\n",
       "  <tbody>\n",
       "    <tr>\n",
       "      <th>2</th>\n",
       "      <td>Birch</td>\n",
       "      <td>0.131454</td>\n",
       "      <td>402.563140</td>\n",
       "      <td>2.727655</td>\n",
       "    </tr>\n",
       "    <tr>\n",
       "      <th>1</th>\n",
       "      <td>kMeans</td>\n",
       "      <td>0.066715</td>\n",
       "      <td>419.434259</td>\n",
       "      <td>3.842235</td>\n",
       "    </tr>\n",
       "    <tr>\n",
       "      <th>0</th>\n",
       "      <td>agglo</td>\n",
       "      <td>-0.037101</td>\n",
       "      <td>308.244101</td>\n",
       "      <td>2.282180</td>\n",
       "    </tr>\n",
       "    <tr>\n",
       "      <th>5</th>\n",
       "      <td>SpectralClustring</td>\n",
       "      <td>-0.148302</td>\n",
       "      <td>396.023095</td>\n",
       "      <td>5.132824</td>\n",
       "    </tr>\n",
       "    <tr>\n",
       "      <th>3</th>\n",
       "      <td>MeanShift</td>\n",
       "      <td>-0.489316</td>\n",
       "      <td>27.388651</td>\n",
       "      <td>2.413077</td>\n",
       "    </tr>\n",
       "  </tbody>\n",
       "</table>\n",
       "</div>"
      ],
      "text/plain": [
       "           Clustring  Silhouette  Callinszky    Davies\n",
       "2              Birch    0.131454  402.563140  2.727655\n",
       "1             kMeans    0.066715  419.434259  3.842235\n",
       "0              agglo   -0.037101  308.244101  2.282180\n",
       "5  SpectralClustring   -0.148302  396.023095  5.132824\n",
       "3          MeanShift   -0.489316   27.388651  2.413077"
      ]
     },
     "execution_count": 12,
     "metadata": {},
     "output_type": "execute_result"
    }
   ],
   "source": [
    "result.sort_values(by=[\"Silhouette\",\"Callinszky\",\"Davies\"], ascending = [False, False, True]).head()"
   ]
  },
  {
   "cell_type": "markdown",
   "id": "811263dd",
   "metadata": {},
   "source": [
    "When I used PCA, K-means produces better results than others, where Silhouette = 0.070525, Callinszky = 426.291432 and Davies = 3.758157."
   ]
  },
  {
   "cell_type": "code",
   "execution_count": 13,
   "id": "de1c7a89",
   "metadata": {},
   "outputs": [
    {
     "data": {
      "text/plain": [
       "array([1, 0, 0, ..., 0, 0, 1])"
      ]
     },
     "execution_count": 13,
     "metadata": {},
     "output_type": "execute_result"
    }
   ],
   "source": [
    "clustering_algorithms[1][1].labels_"
   ]
  },
  {
   "cell_type": "markdown",
   "id": "60a99b74",
   "metadata": {},
   "source": [
    "## 4) When we use PCA, K-means produces better results than others"
   ]
  },
  {
   "cell_type": "code",
   "execution_count": 29,
   "id": "da0c986f",
   "metadata": {},
   "outputs": [
    {
     "name": "stdout",
     "output_type": "stream",
     "text": [
      "      component1  component2  prediction\n",
      "0       2.514615   -0.184094           1\n",
      "1       0.496156   -0.758450           0\n",
      "2      -1.179272   -0.358600           0\n",
      "3      -0.297284   -0.063419           0\n",
      "4       0.534596   -0.698550           0\n",
      "...          ...         ...         ...\n",
      "1450   -1.073126   -0.662531           0\n",
      "1451   -0.885412   -0.540582           0\n",
      "1452   -3.197524    0.154211           0\n",
      "1453   -0.384971   -1.265717           0\n",
      "1454    1.898211    2.224560           1\n",
      "\n",
      "[1455 rows x 3 columns]\n"
     ]
    },
    {
     "data": {
      "image/png": "[encoded data removed]",
      "text/plain": [
       "<Figure size 432x432 with 1 Axes>"
      ]
     },
     "metadata": {
      "needs_background": "light"
     },
     "output_type": "display_data"
    }
   ],
   "source": [
    "pcadf = pd.DataFrame(\n",
    "    Pipeline(steps=[('scaler', StandardScaler()), ('pca', PCA(n_components=2))]).fit_transform(df),\n",
    "    columns=[\"component1\", \"component2\"]\n",
    ")\n",
    "pcadf[\"prediction\"] = clustering_algorithms[1][1].labels_\n",
    "print(pcadf)\n",
    "\n",
    "plt.figure(figsize=(6,6))\n",
    "\n",
    "scatter = sns.scatterplot(\n",
    "    data = pcadf,\n",
    "    x = \"component1\",\n",
    "    y = \"component2\",\n",
    "    hue = \"prediction\",\n",
    "    s = 50, # size of the mark\n",
    ")\n",
    "# plt.figure(figsize=(6,6))\n",
    "# scatter = sns.scatterplot(\n",
    "#     data = pcadf,\n",
    "#     x = \"component2\",\n",
    "#     y = \"component3\",\n",
    "#     hue = \"prediction\",\n",
    "#     s = 50, # size of the mark\n",
    "# )\n",
    "\n",
    "# plt.figure(figsize=(6,6))\n",
    "# scatter = sns.scatterplot(\n",
    "#     data = pcadf,\n",
    "#     x = \"component1\",\n",
    "#     y = \"component3\",\n",
    "#     hue = \"prediction\",\n",
    "#     s = 50, # size of the mark\n",
    "# )\n",
    "scatter.set_title(\"clustering results using PCA\")\n",
    "\n",
    "plt.show()"
   ]
  },
  {
   "cell_type": "markdown",
   "id": "b26fdbf6",
   "metadata": {},
   "source": [
    "The visualization above shows the clusters we obtained, based on the two principal components from the dataset which are component1 and component2. It is easy to see the clear cut boundaries between clusters. It looks like the clusters roll around at center with each other otherwise it is much better."
   ]
  }
 ],
 "metadata": {
  "kernelspec": {
   "display_name": "Python 3 (ipykernel)",
   "language": "python",
   "name": "python3"
  },
  "language_info": {
   "codemirror_mode": {
    "name": "ipython",
    "version": 3
   },
   "file_extension": ".py",
   "mimetype": "text/x-python",
   "name": "python",
   "nbconvert_exporter": "python",
   "pygments_lexer": "ipython3",
   "version": "3.8.8"
  }
 },
 "nbformat": 4,
 "nbformat_minor": 5
}
