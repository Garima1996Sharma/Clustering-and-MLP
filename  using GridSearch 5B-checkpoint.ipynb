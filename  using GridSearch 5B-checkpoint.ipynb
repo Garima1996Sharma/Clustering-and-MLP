{
 "cells": [
  {
   "cell_type": "code",
   "execution_count": 75,
   "id": "08fbe7f3",
   "metadata": {},
   "outputs": [
    {
     "data": {
      "text/html": [
       "<div>\n",
       "<style scoped>\n",
       "    .dataframe tbody tr th:only-of-type {\n",
       "        vertical-align: middle;\n",
       "    }\n",
       "\n",
       "    .dataframe tbody tr th {\n",
       "        vertical-align: top;\n",
       "    }\n",
       "\n",
       "    .dataframe thead th {\n",
       "        text-align: right;\n",
       "    }\n",
       "</style>\n",
       "<table border=\"1\" class=\"dataframe\">\n",
       "  <thead>\n",
       "    <tr style=\"text-align: right;\">\n",
       "      <th></th>\n",
       "      <th>feature1</th>\n",
       "      <th>feature2</th>\n",
       "      <th>class</th>\n",
       "    </tr>\n",
       "  </thead>\n",
       "  <tbody>\n",
       "    <tr>\n",
       "      <th>0</th>\n",
       "      <td>1.400628</td>\n",
       "      <td>-1.062722</td>\n",
       "      <td>1</td>\n",
       "    </tr>\n",
       "    <tr>\n",
       "      <th>1</th>\n",
       "      <td>1.572726</td>\n",
       "      <td>1.030960</td>\n",
       "      <td>0</td>\n",
       "    </tr>\n",
       "    <tr>\n",
       "      <th>2</th>\n",
       "      <td>-0.397654</td>\n",
       "      <td>-0.564270</td>\n",
       "      <td>2</td>\n",
       "    </tr>\n",
       "    <tr>\n",
       "      <th>3</th>\n",
       "      <td>-0.489704</td>\n",
       "      <td>1.137081</td>\n",
       "      <td>2</td>\n",
       "    </tr>\n",
       "    <tr>\n",
       "      <th>4</th>\n",
       "      <td>1.761848</td>\n",
       "      <td>1.191341</td>\n",
       "      <td>0</td>\n",
       "    </tr>\n",
       "  </tbody>\n",
       "</table>\n",
       "</div>"
      ],
      "text/plain": [
       "   feature1  feature2  class\n",
       "0  1.400628 -1.062722      1\n",
       "1  1.572726  1.030960      0\n",
       "2 -0.397654 -0.564270      2\n",
       "3 -0.489704  1.137081      2\n",
       "4  1.761848  1.191341      0"
      ]
     },
     "execution_count": 75,
     "metadata": {},
     "output_type": "execute_result"
    }
   ],
   "source": [
    "import pandas as pd\n",
    "import numpy as np\n",
    "import matplotlib.pyplot as plt\n",
    "import seaborn as sns\n",
    "from sklearn.neural_network import MLPClassifier\n",
    "from sklearn.model_selection import train_test_split\n",
    "from sklearn.preprocessing import StandardScaler\n",
    "from sklearn.metrics import classification_report\n",
    "from sklearn.metrics import mean_squared_error\n",
    "from sklearn.metrics import confusion_matrix\n",
    "df = pd.read_csv(\"dataset4.csv\")\n",
    "\n",
    "df.head()"
   ]
  },
  {
   "cell_type": "code",
   "execution_count": 76,
   "id": "ba5f0ee4",
   "metadata": {},
   "outputs": [
    {
     "data": {
      "text/plain": [
       "0      1\n",
       "1      0\n",
       "2      2\n",
       "3      2\n",
       "4      0\n",
       "      ..\n",
       "495    1\n",
       "496    1\n",
       "497    0\n",
       "498    0\n",
       "499    1\n",
       "Name: class, Length: 500, dtype: int64"
      ]
     },
     "execution_count": 76,
     "metadata": {},
     "output_type": "execute_result"
    }
   ],
   "source": [
    "## creating another variable to save the features except target column\n",
    "features = df.drop('class', axis=1)\n",
    "features\n",
    "\n",
    "## naming the response variable as target\n",
    "target = df['class']\n",
    "target"
   ]
  },
  {
   "cell_type": "markdown",
   "id": "81940c0e",
   "metadata": {},
   "source": [
    "## MLPCLassifier with StandardScaler and GridSearchCV\n"
   ]
  },
  {
   "cell_type": "code",
   "execution_count": 77,
   "id": "f4263722",
   "metadata": {},
   "outputs": [],
   "source": [
    "from sklearn.pipeline import Pipeline\n",
    "\n",
    "pipe = Pipeline([(\"scaling\", StandardScaler()),(\"classifier\", MLPClassifier(random_state=42))])\n",
    "\n"
   ]
  },
  {
   "cell_type": "code",
   "execution_count": 78,
   "id": "8c2da8eb",
   "metadata": {},
   "outputs": [
    {
     "data": {
      "text/plain": [
       "dict_keys(['memory', 'steps', 'verbose', 'scaling', 'classifier', 'scaling__copy', 'scaling__with_mean', 'scaling__with_std', 'classifier__activation', 'classifier__alpha', 'classifier__batch_size', 'classifier__beta_1', 'classifier__beta_2', 'classifier__early_stopping', 'classifier__epsilon', 'classifier__hidden_layer_sizes', 'classifier__learning_rate', 'classifier__learning_rate_init', 'classifier__max_fun', 'classifier__max_iter', 'classifier__momentum', 'classifier__n_iter_no_change', 'classifier__nesterovs_momentum', 'classifier__power_t', 'classifier__random_state', 'classifier__shuffle', 'classifier__solver', 'classifier__tol', 'classifier__validation_fraction', 'classifier__verbose', 'classifier__warm_start'])"
      ]
     },
     "execution_count": 78,
     "metadata": {},
     "output_type": "execute_result"
    }
   ],
   "source": [
    "MLPClassifier(random_state=42).get_params().keys()\n",
    "pipe.get_params().keys()"
   ]
  },
  {
   "cell_type": "code",
   "execution_count": 79,
   "id": "a797c314",
   "metadata": {},
   "outputs": [],
   "source": [
    "from sklearn.model_selection import GridSearchCV\n",
    "\n",
    "from sklearn.model_selection import GridSearchCV\n",
    "from sklearn.metrics import classification_report\n",
    "\n",
    "grid_parameters = {\n",
    "    \"classifier__hidden_layer_sizes\": [(2,),(2,2),(5,),(5,2),(5,5),(10,),(10,2),(10,5),(10,10)],\n",
    "    \"classifier__learning_rate\":[\"adaptive\"],\n",
    "    \"classifier__max_iter\":[5000]\n",
    "}\n"
   ]
  },
  {
   "cell_type": "code",
   "execution_count": 80,
   "id": "41729d2e",
   "metadata": {},
   "outputs": [
    {
     "data": {
      "text/plain": [
       "GridSearchCV(estimator=Pipeline(steps=[('scaling', StandardScaler()),\n",
       "                                       ('classifier',\n",
       "                                        MLPClassifier(random_state=42))]),\n",
       "             param_grid={'classifier__hidden_layer_sizes': [(2,), (2, 2), (5,),\n",
       "                                                            (5, 2), (5, 5),\n",
       "                                                            (10,), (10, 2),\n",
       "                                                            (10, 5), (10, 10)],\n",
       "                         'classifier__learning_rate': ['adaptive'],\n",
       "                         'classifier__max_iter': [5000]},\n",
       "             scoring='accuracy')"
      ]
     },
     "execution_count": 80,
     "metadata": {},
     "output_type": "execute_result"
    }
   ],
   "source": [
    "from sklearn.model_selection import train_test_split\n",
    "\n",
    "X_train, X_test, y_train, y_test = train_test_split(features, target, test_size=0.20, random_state=42)\n",
    "#print(\"Size of training set: {} size of test set: {}\".format(X_train.shape[0], X_test.shape[0]))\n",
    "\n",
    "\n",
    "mlp_classifier=GridSearchCV(estimator=pipe, param_grid=grid_parameters, scoring='accuracy')\n",
    "mlp_classifier.fit(X_train, y_train)"
   ]
  },
  {
   "cell_type": "code",
   "execution_count": 82,
   "id": "060cd7fb",
   "metadata": {},
   "outputs": [
    {
     "name": "stdout",
     "output_type": "stream",
     "text": [
      "Grid scores for all the models based on CV:\n",
      "\n",
      "0.72000 (+/-0.04637) for {'classifier__hidden_layer_sizes': (2,), 'classifier__learning_rate': 'adaptive', 'classifier__max_iter': 5000}\n",
      "0.33750 (+/-0.00000) for {'classifier__hidden_layer_sizes': (2, 2), 'classifier__learning_rate': 'adaptive', 'classifier__max_iter': 5000}\n",
      "0.91750 (+/-0.05148) for {'classifier__hidden_layer_sizes': (5,), 'classifier__learning_rate': 'adaptive', 'classifier__max_iter': 5000}\n",
      "0.89750 (+/-0.02449) for {'classifier__hidden_layer_sizes': (5, 2), 'classifier__learning_rate': 'adaptive', 'classifier__max_iter': 5000}\n",
      "0.93750 (+/-0.05244) for {'classifier__hidden_layer_sizes': (5, 5), 'classifier__learning_rate': 'adaptive', 'classifier__max_iter': 5000}\n",
      "0.91750 (+/-0.05148) for {'classifier__hidden_layer_sizes': (10,), 'classifier__learning_rate': 'adaptive', 'classifier__max_iter': 5000}\n",
      "0.93250 (+/-0.03742) for {'classifier__hidden_layer_sizes': (10, 2), 'classifier__learning_rate': 'adaptive', 'classifier__max_iter': 5000}\n",
      "0.93750 (+/-0.05244) for {'classifier__hidden_layer_sizes': (10, 5), 'classifier__learning_rate': 'adaptive', 'classifier__max_iter': 5000}\n",
      "0.92750 (+/-0.05339) for {'classifier__hidden_layer_sizes': (10, 10), 'classifier__learning_rate': 'adaptive', 'classifier__max_iter': 5000}\n",
      "\n",
      "Best parameters set found on development set: {'classifier__hidden_layer_sizes': (5, 5), 'classifier__learning_rate': 'adaptive', 'classifier__max_iter': 5000}\n",
      "Best model validation accuracy: 0.9375\n"
     ]
    }
   ],
   "source": [
    "# Here, we are showing the accuracy scores for all the models\n",
    "print(\"Grid scores for all the models based on CV:\\n\")\n",
    "means = mlp_classifier.cv_results_['mean_test_score']\n",
    "stds = mlp_classifier.cv_results_['std_test_score']\n",
    "\n",
    "for mean, std, params in zip(means, stds, mlp_classifier.cv_results_['params']):\n",
    "    print(\"%0.5f (+/-%0.05f) for %r\" % (mean, std * 2, params))\n",
    "    \n",
    "# Here, we are checking out the best model performance\n",
    "print(\"\\nBest parameters set found on development set:\", mlp_classifier.best_params_)\n",
    "\n",
    "# Here, we are checking out the best model validation accuracy\n",
    "print(\"Best model validation accuracy:\", mlp_classifier.best_score_)\n",
    "\n",
    "gs_best = mlp_classifier.best_estimator_\n",
    "gs_best\n",
    "tuned_y_pred = gs_best.predict(X_test)\n"
   ]
  }
 ],
 "metadata": {
  "kernelspec": {
   "display_name": "Python 3 (ipykernel)",
   "language": "python",
   "name": "python3"
  },
  "language_info": {
   "codemirror_mode": {
    "name": "ipython",
    "version": 3
   },
   "file_extension": ".py",
   "mimetype": "text/x-python",
   "name": "python",
   "nbconvert_exporter": "python",
   "pygments_lexer": "ipython3",
   "version": "3.8.8"
  }
 },
 "nbformat": 4,
 "nbformat_minor": 5
}
